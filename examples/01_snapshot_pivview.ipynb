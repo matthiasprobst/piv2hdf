{
 "cells": [
  {
   "cell_type": "markdown",
   "id": "9b52341a-6b03-4074-b931-4e4bf6fc3944",
   "metadata": {},
   "source": [
    "# 01 PIV Snapshot to HDF\n",
    "\n",
    "A *snapshot* is data from a single PIV recording, hence a measurement at one point in time.\n",
    "\n",
    "In this tutorial a PIVview .nc file is converted into an HDF5 file."
   ]
  },
  {
   "cell_type": "code",
   "execution_count": null,
   "id": "cd07722f-0137-4d5b-a9ae-6826d6a0b8ca",
   "metadata": {},
   "outputs": [],
   "source": [
    "from piv2hdf import PIVSnapshot\n",
    "\n",
    "from piv2hdf import tutorial\n",
    "from piv2hdf.pivview import PIVViewNcFile\n",
    "\n",
    "from datetime import datetime"
   ]
  },
  {
   "cell_type": "markdown",
   "id": "96aa2e80-91c6-463c-b0db-86232312c0d4",
   "metadata": {},
   "source": [
    "## Get tutorial data (a single netCDF4 File):"
   ]
  },
  {
   "cell_type": "code",
   "execution_count": null,
   "id": "7ee24ff1-8244-4db5-ade3-7cfde2495a2c",
   "metadata": {},
   "outputs": [],
   "source": [
    "pivview_nc_file = tutorial.PIVview.get_snapshot_nc_files()[0]"
   ]
  },
  {
   "cell_type": "markdown",
   "id": "514d0960-dde6-4c53-94a7-8d8acf44e123",
   "metadata": {},
   "source": [
    "## Instantiate a File object from the nc file:"
   ]
  },
  {
   "cell_type": "code",
   "execution_count": null,
   "id": "7cf2e7d2-7fd8-41dd-926f-8f58a41fe2c0",
   "metadata": {},
   "outputs": [],
   "source": [
    "pivfile = PIVViewNcFile(filename=pivview_nc_file, parameter_filename=None)"
   ]
  },
  {
   "cell_type": "markdown",
   "id": "3204f2bb-0ad8-4166-b6df-91218428fbef",
   "metadata": {},
   "source": [
    "## We define the recording time (arbitrary date in this case):"
   ]
  },
  {
   "cell_type": "code",
   "execution_count": null,
   "id": "01ecab27-3e4f-4f98-9d58-871959285223",
   "metadata": {},
   "outputs": [],
   "source": [
    "recording_dtime = datetime(2023, 1, 15, 13, 42, 2, 3)"
   ]
  },
  {
   "cell_type": "markdown",
   "id": "87c80c4e-6f86-4995-96a3-43989e3417dc",
   "metadata": {},
   "source": [
    "## Instantiate the `PIVSnapshot` object with the nc file and the recording time:"
   ]
  },
  {
   "cell_type": "code",
   "execution_count": null,
   "id": "bee2515d-9d85-4b9e-a5e5-7e17aa1be6dd",
   "metadata": {},
   "outputs": [],
   "source": [
    "snapshot = PIVSnapshot(piv_file=pivfile, recording_dtime=recording_dtime)"
   ]
  },
  {
   "cell_type": "markdown",
   "id": "6b22cbe5-522a-4f3a-ba8e-e40e1a9c072a",
   "metadata": {},
   "source": [
    "## Convert the snapshot to HDF5:"
   ]
  },
  {
   "cell_type": "code",
   "execution_count": null,
   "id": "8d2fbdf9-7f60-4f8f-86a4-83f9d040ff3e",
   "metadata": {},
   "outputs": [],
   "source": [
    "hdf_filename = snapshot.to_hdf()"
   ]
  },
  {
   "cell_type": "markdown",
   "id": "6cfd2cd3-7298-4032-af21-d2582552e416",
   "metadata": {},
   "source": [
    "## Inspect the result using h5rdmtoolbox:"
   ]
  },
  {
   "cell_type": "code",
   "execution_count": null,
   "id": "2a7b445f-13db-41e8-82be-22cab38a8df1",
   "metadata": {},
   "outputs": [],
   "source": [
    "import h5rdmtoolbox as h5tbx"
   ]
  },
  {
   "cell_type": "code",
   "execution_count": null,
   "id": "02104544-74b9-4cb4-a5ce-b354e68ea408",
   "metadata": {},
   "outputs": [],
   "source": [
    "h5tbx.dump(hdf_filename)"
   ]
  },
  {
   "cell_type": "code",
   "execution_count": null,
   "id": "5c290144-44fa-4cb2-8917-6405e6e2c871",
   "metadata": {},
   "outputs": [],
   "source": []
  }
 ],
 "metadata": {
  "kernelspec": {
   "display_name": "Python 3 (ipykernel)",
   "language": "python",
   "name": "python3"
  },
  "language_info": {
   "codemirror_mode": {
    "name": "ipython",
    "version": 3
   },
   "file_extension": ".py",
   "mimetype": "text/x-python",
   "name": "python",
   "nbconvert_exporter": "python",
   "pygments_lexer": "ipython3",
   "version": "3.11.0"
  }
 },
 "nbformat": 4,
 "nbformat_minor": 5
}
