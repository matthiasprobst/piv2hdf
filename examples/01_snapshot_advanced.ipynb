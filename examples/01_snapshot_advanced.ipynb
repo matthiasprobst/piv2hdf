{
 "cells": [
  {
   "cell_type": "markdown",
   "id": "cdf74877-14f5-4c20-a511-89ede8c1efcf",
   "metadata": {},
   "source": [
    "# 01 PIV Snapshot to HDF - Advanced topic\n",
    "\n",
    "In [the first PIV Snapshot](01_snapshot_pivview.ipynb) a simple conversion is shown. However, this is only the basic conversion. Oftentimes, a user may want to adjust some details every time the conversion is performed. For this, \"user defined operations\" (UDO) can be injected to the conversion process.\n",
    "\n",
    "In this example, we want to inject an operation, which assigns [standard_names](https://matthiasprobst.github.io/ssno/) to some of the variables:"
   ]
  },
  {
   "cell_type": "code",
   "execution_count": null,
   "id": "233ffafc-b864-4a47-8f20-82bc0659b3ba",
   "metadata": {},
   "outputs": [],
   "source": [
    "from piv2hdf import PIVSnapshot\n",
    "\n",
    "from piv2hdf import tutorial\n",
    "from piv2hdf.pivview import PIVViewNcFile\n",
    "from piv2hdf import UserDefinedHDF5Operation\n",
    "\n",
    "from datetime import datetime"
   ]
  },
  {
   "cell_type": "markdown",
   "id": "2fab3668-7943-4687-9c67-887cb2527953",
   "metadata": {},
   "source": [
    "## Define the UDP:\n",
    "\n",
    "A UDO is a class defined by `UserDefinedHDF5Operation`, which enforces the implementation of `__call__(self, h5:h5tbx.File)`, where `h5` is an opened HDF5 file."
   ]
  },
  {
   "cell_type": "code",
   "execution_count": null,
   "id": "af2b5469-7df6-4cef-a21f-9fcd25a9fc92",
   "metadata": {},
   "outputs": [],
   "source": [
    "from typing import Dict\n",
    "import h5rdmtoolbox as h5tbx\n",
    "\n",
    "class MyUDO(UserDefinedHDF5Operation):\n",
    "\n",
    "    def __init__(self, sn_translation: Dict):\n",
    "        self.sn_translation = sn_translation\n",
    "\n",
    "    def __call__(self, h5:h5tbx.File):\n",
    "        for k, v in h5.items():\n",
    "            sn = self.sn_translation.get(k)\n",
    "            if sn:\n",
    "                v.attrs[\"standard_name\"] = sn"
   ]
  },
  {
   "cell_type": "code",
   "execution_count": null,
   "id": "5999bd86-dfdb-4cc9-8b7e-607652b151ab",
   "metadata": {},
   "outputs": [],
   "source": [
    "pivview_nc_file = tutorial.PIVview.get_snapshot_nc_files()[0]"
   ]
  },
  {
   "cell_type": "markdown",
   "id": "5c39e8c3-4e1d-4a22-8d40-061a6be10054",
   "metadata": {},
   "source": [
    "Instantiate and **inject the UDO** during the instantiation of your `PIVFile`:"
   ]
  },
  {
   "cell_type": "code",
   "execution_count": null,
   "id": "7486a463-dd43-4fa8-802b-5b1f66e396f8",
   "metadata": {},
   "outputs": [],
   "source": [
    "my_translations = {\n",
    "    \"x\": \"x_coordinate\",\n",
    "    \"y\": \"y_coordinate\",\n",
    "    \"u\": \"x_velocity\",\n",
    "    \"v\": \"y_velocity\"\n",
    "}"
   ]
  },
  {
   "cell_type": "code",
   "execution_count": null,
   "id": "a4466821-a285-4c94-a3ad-7027dd2e180f",
   "metadata": {},
   "outputs": [],
   "source": [
    "my_udo = MyUDO(my_translations)"
   ]
  },
  {
   "cell_type": "code",
   "execution_count": null,
   "id": "cd8d7b57-22c0-4d21-9cab-4f622b0420a8",
   "metadata": {},
   "outputs": [],
   "source": [
    "pivfile = PIVViewNcFile(\n",
    "    filename=pivview_nc_file,\n",
    "    parameter_filename=None,\n",
    "    user_defined_hdf5_operations=my_udo\n",
    ")"
   ]
  },
  {
   "cell_type": "markdown",
   "id": "4dba0af0-a54e-4e50-9dcc-4c1ed029875b",
   "metadata": {},
   "source": [
    "Convert to HDF5 as in the previous example:"
   ]
  },
  {
   "cell_type": "code",
   "execution_count": null,
   "id": "679a9ba1-dd06-4375-944e-4987793cec1b",
   "metadata": {},
   "outputs": [],
   "source": [
    "recording_dtime = datetime(2023, 1, 15, 13, 42, 2, 3)\n",
    "snapshot = PIVSnapshot(piv_file=pivfile, recording_dtime=recording_dtime)\n",
    "hdf_filename = snapshot.to_hdf()"
   ]
  },
  {
   "cell_type": "markdown",
   "id": "be9dc58c-d8be-4e63-bf88-fe605fce66d2",
   "metadata": {},
   "source": [
    "Let's check if it worked:"
   ]
  },
  {
   "cell_type": "code",
   "execution_count": null,
   "id": "41a398d6-22d3-495f-93bb-69909ea45a7d",
   "metadata": {},
   "outputs": [],
   "source": [
    "with h5tbx.File(hdf_filename) as h5:\n",
    "    h5[\"x\"].dump()"
   ]
  },
  {
   "cell_type": "code",
   "execution_count": null,
   "id": "f2a5f227-851f-471c-9198-41f99f701626",
   "metadata": {},
   "outputs": [],
   "source": []
  }
 ],
 "metadata": {
  "kernelspec": {
   "display_name": "Python 3 (ipykernel)",
   "language": "python",
   "name": "python3"
  },
  "language_info": {
   "codemirror_mode": {
    "name": "ipython",
    "version": 3
   },
   "file_extension": ".py",
   "mimetype": "text/x-python",
   "name": "python",
   "nbconvert_exporter": "python",
   "pygments_lexer": "ipython3",
   "version": "3.11.0"
  }
 },
 "nbformat": 4,
 "nbformat_minor": 5
}
