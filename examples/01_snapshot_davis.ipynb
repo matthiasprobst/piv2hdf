{
 "cells": [
  {
   "cell_type": "markdown",
   "id": "17a2a85b-ba50-4cd3-9bfb-ae9c408341ab",
   "metadata": {},
   "source": [
    "# 01 PIV Snapshot to HDF for DAVIS Data"
   ]
  },
  {
   "cell_type": "code",
   "execution_count": null,
   "id": "f22809e9-acd7-4689-8071-f6bd037dd50a",
   "metadata": {},
   "outputs": [],
   "source": [
    "from piv2hdf import tutorial\n",
    "\n",
    "from piv2hdf.davis import VC7File\n",
    "from piv2hdf.davis.parameter import DavisParameterFile\n",
    "\n",
    "from piv2hdf import PIVSnapshot\n",
    "\n",
    "from datetime import datetime"
   ]
  },
  {
   "cell_type": "code",
   "execution_count": null,
   "id": "3ab105ed-42eb-4848-a4cd-4e455b5fa5b9",
   "metadata": {},
   "outputs": [],
   "source": [
    "vc7_filename = tutorial.Davis.get_vc7_files()[0]"
   ]
  },
  {
   "cell_type": "code",
   "execution_count": null,
   "id": "1220e7a3-ddbc-4222-b1c2-83c538269f5d",
   "metadata": {},
   "outputs": [],
   "source": [
    "param = DavisParameterFile(vc7_filename)\n",
    "vc7file = VC7File(vc7_filename, parameter=param)\n",
    "\n",
    "snapshot = PIVSnapshot(\n",
    "    piv_file=vc7file,\n",
    "    recording_dtime=datetime(2023, 1, 15, 13, 42, 2, 3)\n",
    ")\n",
    "hdf_filename = snapshot.to_hdf()"
   ]
  },
  {
   "cell_type": "code",
   "execution_count": null,
   "id": "7fa005dc-0ae5-4d12-92ca-3a544544d78a",
   "metadata": {},
   "outputs": [],
   "source": [
    "import h5rdmtoolbox as h5tbx"
   ]
  },
  {
   "cell_type": "code",
   "execution_count": null,
   "id": "76ca43c8-5829-412f-946e-ec8cb07c12a8",
   "metadata": {},
   "outputs": [],
   "source": [
    "h5tbx.dump(hdf_filename)"
   ]
  },
  {
   "cell_type": "code",
   "execution_count": null,
   "id": "aead1767-7cc7-4311-a44c-36d23fd28d11",
   "metadata": {},
   "outputs": [],
   "source": [
    "with h5tbx.File(hdf_filename) as h5:\n",
    "    h5[\"U0\"][()].plot()"
   ]
  },
  {
   "cell_type": "code",
   "execution_count": null,
   "id": "5d813420-c268-4b9b-b97f-231a9f8c02de",
   "metadata": {},
   "outputs": [],
   "source": []
  }
 ],
 "metadata": {
  "kernelspec": {
   "display_name": "Python 3 (ipykernel)",
   "language": "python",
   "name": "python3"
  },
  "language_info": {
   "codemirror_mode": {
    "name": "ipython",
    "version": 3
   },
   "file_extension": ".py",
   "mimetype": "text/x-python",
   "name": "python",
   "nbconvert_exporter": "python",
   "pygments_lexer": "ipython3",
   "version": "3.11.0"
  }
 },
 "nbformat": 4,
 "nbformat_minor": 5
}
